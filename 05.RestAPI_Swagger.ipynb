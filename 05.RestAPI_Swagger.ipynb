{
 "cells": [
  {
   "cell_type": "code",
   "execution_count": 2,
   "id": "7746d0c2",
   "metadata": {
    "scrolled": true
   },
   "outputs": [
    {
     "name": "stdout",
     "output_type": "stream",
     "text": [
      "Collecting flask_restx\n",
      "  Downloading flask_restx-0.5.1-py2.py3-none-any.whl (5.3 MB)\n",
      "     ---------------------------------------- 5.3/5.3 MB 7.4 MB/s eta 0:00:00\n",
      "Requirement already satisfied: Flask!=2.0.0,>=0.8 in c:\\users\\soobin\\appdata\\roaming\\python\\python38\\site-packages (from flask_restx) (2.2.2)\n",
      "Requirement already satisfied: jsonschema in c:\\users\\soobin\\anaconda3\\envs\\pycaret\\lib\\site-packages (from flask_restx) (4.4.0)\n",
      "Requirement already satisfied: pytz in c:\\users\\soobin\\anaconda3\\envs\\pycaret\\lib\\site-packages (from flask_restx) (2022.2.1)\n",
      "Requirement already satisfied: werkzeug!=2.0.0 in c:\\users\\soobin\\anaconda3\\envs\\pycaret\\lib\\site-packages (from flask_restx) (2.2.2)\n",
      "Collecting aniso8601>=0.82\n",
      "  Downloading aniso8601-9.0.1-py2.py3-none-any.whl (52 kB)\n",
      "     ---------------------------------------- 52.8/52.8 kB 2.7 MB/s eta 0:00:00\n",
      "Requirement already satisfied: six>=1.3.0 in c:\\users\\soobin\\anaconda3\\envs\\pycaret\\lib\\site-packages (from flask_restx) (1.16.0)\n",
      "Requirement already satisfied: Jinja2>=3.0 in c:\\users\\soobin\\anaconda3\\envs\\pycaret\\lib\\site-packages (from Flask!=2.0.0,>=0.8->flask_restx) (3.0.3)\n",
      "Requirement already satisfied: click>=8.0 in c:\\users\\soobin\\appdata\\roaming\\python\\python38\\site-packages (from Flask!=2.0.0,>=0.8->flask_restx) (8.1.3)\n",
      "Requirement already satisfied: itsdangerous>=2.0 in c:\\users\\soobin\\appdata\\roaming\\python\\python38\\site-packages (from Flask!=2.0.0,>=0.8->flask_restx) (2.1.2)\n",
      "Requirement already satisfied: importlib-metadata>=3.6.0 in c:\\users\\soobin\\appdata\\roaming\\python\\python38\\site-packages (from Flask!=2.0.0,>=0.8->flask_restx) (4.12.0)\n",
      "Requirement already satisfied: MarkupSafe>=2.1.1 in c:\\users\\soobin\\anaconda3\\envs\\pycaret\\lib\\site-packages (from werkzeug!=2.0.0->flask_restx) (2.1.1)\n",
      "Requirement already satisfied: attrs>=17.4.0 in c:\\users\\soobin\\anaconda3\\envs\\pycaret\\lib\\site-packages (from jsonschema->flask_restx) (21.4.0)\n",
      "Requirement already satisfied: pyrsistent!=0.17.0,!=0.17.1,!=0.17.2,>=0.14.0 in c:\\users\\soobin\\anaconda3\\envs\\pycaret\\lib\\site-packages (from jsonschema->flask_restx) (0.18.0)\n",
      "Requirement already satisfied: importlib-resources>=1.4.0 in c:\\users\\soobin\\anaconda3\\envs\\pycaret\\lib\\site-packages (from jsonschema->flask_restx) (5.2.0)\n",
      "Requirement already satisfied: colorama in c:\\users\\soobin\\anaconda3\\envs\\pycaret\\lib\\site-packages (from click>=8.0->Flask!=2.0.0,>=0.8->flask_restx) (0.4.5)\n",
      "Requirement already satisfied: zipp>=0.5 in c:\\users\\soobin\\anaconda3\\envs\\pycaret\\lib\\site-packages (from importlib-metadata>=3.6.0->Flask!=2.0.0,>=0.8->flask_restx) (3.8.0)\n",
      "Installing collected packages: aniso8601, flask_restx\n",
      "Successfully installed aniso8601-9.0.1 flask_restx-0.5.1\n"
     ]
    }
   ],
   "source": [
    "#!pip3 install flask_restx\n",
    "!pip3 install werkzeug==2.1.2"
   ]
  },
  {
   "cell_type": "code",
   "execution_count": 3,
   "id": "8579bb86",
   "metadata": {
    "scrolled": true
   },
   "outputs": [
    {
     "ename": "ImportError",
     "evalue": "cannot import name 'parse_rule' from 'werkzeug.routing' (c:\\Users\\SOOBIN\\Anaconda3\\envs\\PyCaret\\lib\\site-packages\\werkzeug\\routing\\__init__.py)",
     "output_type": "error",
     "traceback": [
      "\u001b[1;31m---------------------------------------------------------------------------\u001b[0m",
      "\u001b[1;31mImportError\u001b[0m                               Traceback (most recent call last)",
      "Input \u001b[1;32mIn [3]\u001b[0m, in \u001b[0;36m<cell line: 3>\u001b[1;34m()\u001b[0m\n\u001b[0;32m      1\u001b[0m \u001b[38;5;28;01mfrom\u001b[39;00m \u001b[38;5;21;01mflask\u001b[39;00m \u001b[38;5;28;01mimport\u001b[39;00m Flask\n\u001b[0;32m      2\u001b[0m \u001b[38;5;28;01mfrom\u001b[39;00m \u001b[38;5;21;01mflask\u001b[39;00m \u001b[38;5;28;01mimport\u001b[39;00m render_template\n\u001b[1;32m----> 3\u001b[0m \u001b[38;5;28;01mfrom\u001b[39;00m \u001b[38;5;21;01mflask_restx\u001b[39;00m \u001b[38;5;28;01mimport\u001b[39;00m Api, Resource, reqparse\n",
      "File \u001b[1;32mc:\\Users\\SOOBIN\\Anaconda3\\envs\\PyCaret\\lib\\site-packages\\flask_restx\\__init__.py:5\u001b[0m, in \u001b[0;36m<module>\u001b[1;34m\u001b[0m\n\u001b[0;32m      2\u001b[0m \u001b[38;5;28;01mfrom\u001b[39;00m \u001b[38;5;21;01m__future__\u001b[39;00m \u001b[38;5;28;01mimport\u001b[39;00m absolute_import\n\u001b[0;32m      4\u001b[0m \u001b[38;5;28;01mfrom\u001b[39;00m \u001b[38;5;21;01m.\u001b[39;00m \u001b[38;5;28;01mimport\u001b[39;00m fields, reqparse, apidoc, inputs, cors\n\u001b[1;32m----> 5\u001b[0m \u001b[38;5;28;01mfrom\u001b[39;00m \u001b[38;5;21;01m.\u001b[39;00m\u001b[38;5;21;01mapi\u001b[39;00m \u001b[38;5;28;01mimport\u001b[39;00m Api  \u001b[38;5;66;03m# noqa\u001b[39;00m\n\u001b[0;32m      6\u001b[0m \u001b[38;5;28;01mfrom\u001b[39;00m \u001b[38;5;21;01m.\u001b[39;00m\u001b[38;5;21;01mmarshalling\u001b[39;00m \u001b[38;5;28;01mimport\u001b[39;00m marshal, marshal_with, marshal_with_field  \u001b[38;5;66;03m# noqa\u001b[39;00m\n\u001b[0;32m      7\u001b[0m \u001b[38;5;28;01mfrom\u001b[39;00m \u001b[38;5;21;01m.\u001b[39;00m\u001b[38;5;21;01mmask\u001b[39;00m \u001b[38;5;28;01mimport\u001b[39;00m Mask\n",
      "File \u001b[1;32mc:\\Users\\SOOBIN\\Anaconda3\\envs\\PyCaret\\lib\\site-packages\\flask_restx\\api.py:50\u001b[0m, in \u001b[0;36m<module>\u001b[1;34m\u001b[0m\n\u001b[0;32m     48\u001b[0m \u001b[38;5;28;01mfrom\u001b[39;00m \u001b[38;5;21;01m.\u001b[39;00m\u001b[38;5;21;01mpostman\u001b[39;00m \u001b[38;5;28;01mimport\u001b[39;00m PostmanCollectionV1\n\u001b[0;32m     49\u001b[0m \u001b[38;5;28;01mfrom\u001b[39;00m \u001b[38;5;21;01m.\u001b[39;00m\u001b[38;5;21;01mresource\u001b[39;00m \u001b[38;5;28;01mimport\u001b[39;00m Resource\n\u001b[1;32m---> 50\u001b[0m \u001b[38;5;28;01mfrom\u001b[39;00m \u001b[38;5;21;01m.\u001b[39;00m\u001b[38;5;21;01mswagger\u001b[39;00m \u001b[38;5;28;01mimport\u001b[39;00m Swagger\n\u001b[0;32m     51\u001b[0m \u001b[38;5;28;01mfrom\u001b[39;00m \u001b[38;5;21;01m.\u001b[39;00m\u001b[38;5;21;01mutils\u001b[39;00m \u001b[38;5;28;01mimport\u001b[39;00m default_id, camel_to_dash, unpack\n\u001b[0;32m     52\u001b[0m \u001b[38;5;28;01mfrom\u001b[39;00m \u001b[38;5;21;01m.\u001b[39;00m\u001b[38;5;21;01mrepresentations\u001b[39;00m \u001b[38;5;28;01mimport\u001b[39;00m output_json\n",
      "File \u001b[1;32mc:\\Users\\SOOBIN\\Anaconda3\\envs\\PyCaret\\lib\\site-packages\\flask_restx\\swagger.py:18\u001b[0m, in \u001b[0;36m<module>\u001b[1;34m\u001b[0m\n\u001b[0;32m     15\u001b[0m \u001b[38;5;28;01mfrom\u001b[39;00m \u001b[38;5;21;01msix\u001b[39;00m \u001b[38;5;28;01mimport\u001b[39;00m string_types, itervalues, iteritems, iterkeys\n\u001b[0;32m     17\u001b[0m \u001b[38;5;28;01mfrom\u001b[39;00m \u001b[38;5;21;01mflask\u001b[39;00m \u001b[38;5;28;01mimport\u001b[39;00m current_app\n\u001b[1;32m---> 18\u001b[0m \u001b[38;5;28;01mfrom\u001b[39;00m \u001b[38;5;21;01mwerkzeug\u001b[39;00m\u001b[38;5;21;01m.\u001b[39;00m\u001b[38;5;21;01mrouting\u001b[39;00m \u001b[38;5;28;01mimport\u001b[39;00m parse_rule\n\u001b[0;32m     20\u001b[0m \u001b[38;5;28;01mfrom\u001b[39;00m \u001b[38;5;21;01m.\u001b[39;00m \u001b[38;5;28;01mimport\u001b[39;00m fields\n\u001b[0;32m     21\u001b[0m \u001b[38;5;28;01mfrom\u001b[39;00m \u001b[38;5;21;01m.\u001b[39;00m\u001b[38;5;21;01mmodel\u001b[39;00m \u001b[38;5;28;01mimport\u001b[39;00m Model, ModelBase, OrderedModel\n",
      "\u001b[1;31mImportError\u001b[0m: cannot import name 'parse_rule' from 'werkzeug.routing' (c:\\Users\\SOOBIN\\Anaconda3\\envs\\PyCaret\\lib\\site-packages\\werkzeug\\routing\\__init__.py)"
     ]
    }
   ],
   "source": [
    "from flask import Flask\n",
    "from flask import render_template\n",
    "from flask_restx import Api, Resource, reqparse"
   ]
  },
  {
   "cell_type": "code",
   "execution_count": 2,
   "id": "18fa17a1",
   "metadata": {},
   "outputs": [],
   "source": [
    "app = Flask(__name__)\n",
    "api = Api(app, version='1.0', title='API 문서', description='Swagger 문서', doc=\"/api-docs\")\n",
    "FlaskAPI = api.namespace('test', description='조회 API')"
   ]
  },
  {
   "cell_type": "code",
   "execution_count": 3,
   "id": "8ffbab0d",
   "metadata": {},
   "outputs": [],
   "source": [
    "@FlaskAPI.route('/hello')\n",
    "class hello_world(Resource):\n",
    "    def get(self):\n",
    "        return \"hello world\""
   ]
  },
  {
   "cell_type": "code",
   "execution_count": 4,
   "id": "4946c3b5",
   "metadata": {},
   "outputs": [],
   "source": [
    "@FlaskAPI.route('/product/<name>')\n",
    "class get_product(Resource):\n",
    "    def get(self, name=None):\n",
    "        return \"The product is \" + str(name)"
   ]
  },
  {
   "cell_type": "code",
   "execution_count": 5,
   "id": "40716105",
   "metadata": {},
   "outputs": [],
   "source": [
    "@FlaskAPI.route('/sale/<transaction_id>')\n",
    "class get_sale(Resource):\n",
    "    def get(self, transaction_id=0):\n",
    "        return \"The transaction is \"+str(transaction_id)"
   ]
  },
  {
   "cell_type": "code",
   "execution_count": 6,
   "id": "85729a5f",
   "metadata": {},
   "outputs": [],
   "source": [
    "@FlaskAPI.route('/create/<first_name>/<last_name>')\n",
    "class create(Resource):\n",
    "    def get(self, first_name=None, last_name=None):\n",
    "        return 'Hello ' + first_name + ',' + last_name"
   ]
  },
  {
   "cell_type": "code",
   "execution_count": null,
   "id": "1fc097aa",
   "metadata": {},
   "outputs": [
    {
     "name": "stdout",
     "output_type": "stream",
     "text": [
      " * Serving Flask app '__main__' (lazy loading)\n",
      " * Environment: production\n",
      "\u001b[31m   WARNING: This is a development server. Do not use it in a production deployment.\u001b[0m\n",
      "\u001b[2m   Use a production WSGI server instead.\u001b[0m\n",
      " * Debug mode: off\n"
     ]
    },
    {
     "name": "stderr",
     "output_type": "stream",
     "text": [
      " * Running on all addresses (0.0.0.0)\n",
      "   WARNING: This is a development server. Do not use it in a production deployment.\n",
      " * Running on http://127.0.0.1:5000\n",
      " * Running on http://192.168.2.16:5000 (Press CTRL+C to quit)\n"
     ]
    }
   ],
   "source": [
    "app.run(host='0.0.0.0', port=5000)"
   ]
  },
  {
   "cell_type": "code",
   "execution_count": null,
   "id": "13870a9c",
   "metadata": {},
   "outputs": [],
   "source": [
    "# http://127.0.0.1:5000/test/hello\n",
    "# http://127.0.0.1:5000/test/sale/300"
   ]
  }
 ],
 "metadata": {
  "kernelspec": {
   "display_name": "Python 3 (ipykernel)",
   "language": "python",
   "name": "python3"
  },
  "language_info": {
   "codemirror_mode": {
    "name": "ipython",
    "version": 3
   },
   "file_extension": ".py",
   "mimetype": "text/x-python",
   "name": "python",
   "nbconvert_exporter": "python",
   "pygments_lexer": "ipython3",
   "version": "3.8.13"
  }
 },
 "nbformat": 4,
 "nbformat_minor": 5
}
