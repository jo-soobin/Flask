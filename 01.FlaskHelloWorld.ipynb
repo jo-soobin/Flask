{
 "cells": [
  {
   "cell_type": "code",
   "execution_count": 5,
   "id": "c9c6c5f8",
   "metadata": {},
   "outputs": [],
   "source": [
    "from flask import Flask"
   ]
  },
  {
   "cell_type": "code",
   "execution_count": 6,
   "id": "5cb4ce68",
   "metadata": {},
   "outputs": [],
   "source": [
    "app = Flask(__name__)"
   ]
  },
  {
   "cell_type": "code",
   "execution_count": 7,
   "id": "dc74fc14",
   "metadata": {},
   "outputs": [],
   "source": [
    "@app.route('/')\n",
    "def index():\n",
    "    return 'Web App with Python Flask!'"
   ]
  },
  {
   "cell_type": "code",
   "execution_count": null,
   "id": "c6573a34",
   "metadata": {
    "scrolled": false
   },
   "outputs": [
    {
     "name": "stdout",
     "output_type": "stream",
     "text": [
      " * Serving Flask app '__main__'\n",
      " * Debug mode: off\n"
     ]
    },
    {
     "name": "stderr",
     "output_type": "stream",
     "text": [
      "WARNING: This is a development server. Do not use it in a production deployment. Use a production WSGI server instead.\n",
      " * Running on http://192.168.0.26:5444\n",
      "Press CTRL+C to quit\n",
      "192.168.0.26 - - [24/Aug/2022 10:48:58] \"GET / HTTP/1.1\" 200 -\n"
     ]
    }
   ],
   "source": [
    "app.run(host='192.168.0.26', port=5444)"
   ]
  },
  {
   "cell_type": "code",
   "execution_count": null,
   "id": "cc303bd5",
   "metadata": {},
   "outputs": [],
   "source": []
  }
 ],
 "metadata": {
  "kernelspec": {
   "display_name": "Python 3 (ipykernel)",
   "language": "python",
   "name": "python3"
  },
  "language_info": {
   "codemirror_mode": {
    "name": "ipython",
    "version": 3
   },
   "file_extension": ".py",
   "mimetype": "text/x-python",
   "name": "python",
   "nbconvert_exporter": "python",
   "pygments_lexer": "ipython3",
   "version": "3.8.13"
  }
 },
 "nbformat": 4,
 "nbformat_minor": 5
}
