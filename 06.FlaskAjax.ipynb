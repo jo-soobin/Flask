{
 "cells": [
  {
   "cell_type": "code",
   "execution_count": 1,
   "id": "c9c6c5f8",
   "metadata": {},
   "outputs": [],
   "source": [
    "from flask import Flask\n",
    "from flask_cors import CORS"
   ]
  },
  {
   "cell_type": "code",
   "execution_count": 5,
   "id": "2b9bffe1",
   "metadata": {},
   "outputs": [],
   "source": [
    "#!pip install Werkzeug"
   ]
  },
  {
   "cell_type": "code",
   "execution_count": 2,
   "id": "5cb4ce68",
   "metadata": {},
   "outputs": [
    {
     "data": {
      "text/plain": [
       "<flask_cors.extension.CORS at 0x2b5ed363250>"
      ]
     },
     "execution_count": 2,
     "metadata": {},
     "output_type": "execute_result"
    }
   ],
   "source": [
    "app = Flask(__name__)\n",
    "CORS(app)"
   ]
  },
  {
   "cell_type": "code",
   "execution_count": 3,
   "id": "dc74fc14",
   "metadata": {},
   "outputs": [],
   "source": [
    "@app.route('/')\n",
    "def index():\n",
    "    return 'Web App with Python Flask!'"
   ]
  },
  {
   "cell_type": "code",
   "execution_count": 4,
   "id": "7f36f1f4",
   "metadata": {},
   "outputs": [
    {
     "name": "stdout",
     "output_type": "stream",
     "text": [
      " * Serving Flask app '__main__'\n",
      " * Debug mode: off\n"
     ]
    },
    {
     "name": "stderr",
     "output_type": "stream",
     "text": [
      "WARNING: This is a development server. Do not use it in a production deployment. Use a production WSGI server instead.\n",
      " * Running on http://192.168.0.26:5444\n",
      "Press CTRL+C to quit\n",
      "192.168.0.26 - - [16/Sep/2022 14:42:17] \"GET / HTTP/1.1\" 200 -\n"
     ]
    }
   ],
   "source": [
    "app.run(host='192.168.0.26', port=5444)"
   ]
  },
  {
   "cell_type": "code",
   "execution_count": null,
   "id": "c6573a34",
   "metadata": {},
   "outputs": [
    {
     "name": "stdout",
     "output_type": "stream",
     "text": [
      " * Serving Flask app '__main__' (lazy loading)\n",
      " * Environment: production\n",
      "\u001b[31m   WARNING: This is a development server. Do not use it in a production deployment.\u001b[0m\n",
      "\u001b[2m   Use a production WSGI server instead.\u001b[0m\n",
      " * Debug mode: off\n"
     ]
    },
    {
     "name": "stderr",
     "output_type": "stream",
     "text": [
      " * Running on all addresses (0.0.0.0)\n",
      "   WARNING: This is a development server. Do not use it in a production deployment.\n",
      " * Running on http://127.0.0.1:5002\n",
      " * Running on http://70.12.225.143:5002 (Press CTRL+C to quit)\n",
      "127.0.0.1 - - [16/Sep/2022 11:35:26] \"GET / HTTP/1.1\" 200 -\n",
      "127.0.0.1 - - [16/Sep/2022 11:35:31] \"OPTIONS / HTTP/1.1\" 200 -\n",
      "127.0.0.1 - - [16/Sep/2022 11:35:35] \"OPTIONS / HTTP/1.1\" 200 -\n",
      "127.0.0.1 - - [16/Sep/2022 11:35:36] \"OPTIONS / HTTP/1.1\" 200 -\n",
      "127.0.0.1 - - [16/Sep/2022 11:36:10] \"OPTIONS / HTTP/1.1\" 200 -\n",
      "127.0.0.1 - - [16/Sep/2022 11:36:25] \"OPTIONS / HTTP/1.1\" 200 -\n"
     ]
    }
   ],
   "source": [
    "#app.run(host='0.0.0.0', port=5002)"
   ]
  },
  {
   "cell_type": "code",
   "execution_count": null,
   "id": "24dfcd83",
   "metadata": {},
   "outputs": [],
   "source": []
  }
 ],
 "metadata": {
  "kernelspec": {
   "display_name": "Python 3 (ipykernel)",
   "language": "python",
   "name": "python3"
  },
  "language_info": {
   "codemirror_mode": {
    "name": "ipython",
    "version": 3
   },
   "file_extension": ".py",
   "mimetype": "text/x-python",
   "name": "python",
   "nbconvert_exporter": "python",
   "pygments_lexer": "ipython3",
   "version": "3.9.12"
  }
 },
 "nbformat": 4,
 "nbformat_minor": 5
}
